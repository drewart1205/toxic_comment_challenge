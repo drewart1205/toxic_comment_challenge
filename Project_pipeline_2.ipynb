{
 "cells": [
  {
   "cell_type": "markdown",
   "metadata": {},
   "source": [
    "# Import Necessary Libraries"
   ]
  },
  {
   "cell_type": "code",
   "execution_count": 1,
   "metadata": {},
   "outputs": [
    {
     "output_type": "error",
     "ename": "ModuleNotFoundError",
     "evalue": "No module named 'gensim'",
     "traceback": [
      "\u001b[1;31m---------------------------------------------------------------------------\u001b[0m",
      "\u001b[1;31mModuleNotFoundError\u001b[0m                       Traceback (most recent call last)",
      "\u001b[1;32m<ipython-input-1-09cecf29863f>\u001b[0m in \u001b[0;36m<module>\u001b[1;34m\u001b[0m\n\u001b[0;32m      8\u001b[0m \u001b[1;32mimport\u001b[0m \u001b[0mseaborn\u001b[0m \u001b[1;32mas\u001b[0m \u001b[0msns\u001b[0m\u001b[1;33m\u001b[0m\u001b[1;33m\u001b[0m\u001b[0m\n\u001b[0;32m      9\u001b[0m \u001b[1;33m\u001b[0m\u001b[0m\n\u001b[1;32m---> 10\u001b[1;33m \u001b[1;32mimport\u001b[0m \u001b[0mgensim\u001b[0m\u001b[1;33m\u001b[0m\u001b[1;33m\u001b[0m\u001b[0m\n\u001b[0m\u001b[0;32m     11\u001b[0m \u001b[1;32mfrom\u001b[0m \u001b[0mgensim\u001b[0m\u001b[1;33m.\u001b[0m\u001b[0mmodels\u001b[0m \u001b[1;32mimport\u001b[0m \u001b[0mWord2Vec\u001b[0m\u001b[1;33m,\u001b[0m \u001b[0mKeyedVectors\u001b[0m\u001b[1;33m\u001b[0m\u001b[1;33m\u001b[0m\u001b[0m\n\u001b[0;32m     12\u001b[0m \u001b[1;31m# from word2vec import load_word2vec_format\u001b[0m\u001b[1;33m\u001b[0m\u001b[1;33m\u001b[0m\u001b[1;33m\u001b[0m\u001b[0m\n",
      "\u001b[1;31mModuleNotFoundError\u001b[0m: No module named 'gensim'"
     ]
    }
   ],
   "source": [
    "import warnings\n",
    "warnings.filterwarnings('ignore')\n",
    "import numpy as np\n",
    "import pandas as pd\n",
    "import string\n",
    "\n",
    "import matplotlib.pyplot as plt\n",
    "import seaborn as sns\n",
    "\n",
    "import gensim\n",
    "from gensim.models import Word2Vec, KeyedVectors\n",
    "# from word2vec import load_word2vec_format\n",
    "from tqdm.notebook import tqdm\n",
    "\n",
    "from sklearn.model_selection import train_test_split\n",
    "from sklearn.feature_extraction.text import ENGLISH_STOP_WORDS\n",
    "from sklearn.feature_extraction.text import CountVectorizer\n",
    "from sklearn.multioutput import MultiOutputClassifier\n",
    "from sklearn.linear_model import LogisticRegression\n",
    "from sklearn.model_selection import cross_val_score\n",
    "from sklearn.metrics import accuracy_score\n",
    "from sklearn.metrics import roc_auc_score\n",
    "\n",
    "from statistics import mean\n",
    "\n",
    "from nltk.corpus import stopwords\n",
    "from nltk.tokenize import word_tokenize\n",
    "from string import punctuation\n",
    "import nltk \n",
    "nltk.download('punkt')"
   ]
  },
  {
   "cell_type": "markdown",
   "metadata": {},
   "source": [
    "# Read Data from CSV files"
   ]
  },
  {
   "cell_type": "code",
   "execution_count": 2,
   "metadata": {},
   "outputs": [
    {
     "data": {
      "text/html": [
       "<div>\n",
       "<style scoped>\n",
       "    .dataframe tbody tr th:only-of-type {\n",
       "        vertical-align: middle;\n",
       "    }\n",
       "\n",
       "    .dataframe tbody tr th {\n",
       "        vertical-align: top;\n",
       "    }\n",
       "\n",
       "    .dataframe thead th {\n",
       "        text-align: right;\n",
       "    }\n",
       "</style>\n",
       "<table border=\"1\" class=\"dataframe\">\n",
       "  <thead>\n",
       "    <tr style=\"text-align: right;\">\n",
       "      <th></th>\n",
       "      <th>id</th>\n",
       "      <th>comment_text</th>\n",
       "      <th>toxic</th>\n",
       "      <th>severe_toxic</th>\n",
       "      <th>obscene</th>\n",
       "      <th>threat</th>\n",
       "      <th>insult</th>\n",
       "      <th>identity_hate</th>\n",
       "    </tr>\n",
       "  </thead>\n",
       "  <tbody>\n",
       "    <tr>\n",
       "      <th>0</th>\n",
       "      <td>0000997932d777bf</td>\n",
       "      <td>Explanation\\nWhy the edits made under my usern...</td>\n",
       "      <td>0</td>\n",
       "      <td>0</td>\n",
       "      <td>0</td>\n",
       "      <td>0</td>\n",
       "      <td>0</td>\n",
       "      <td>0</td>\n",
       "    </tr>\n",
       "    <tr>\n",
       "      <th>1</th>\n",
       "      <td>000103f0d9cfb60f</td>\n",
       "      <td>D'aww! He matches this background colour I'm s...</td>\n",
       "      <td>0</td>\n",
       "      <td>0</td>\n",
       "      <td>0</td>\n",
       "      <td>0</td>\n",
       "      <td>0</td>\n",
       "      <td>0</td>\n",
       "    </tr>\n",
       "    <tr>\n",
       "      <th>2</th>\n",
       "      <td>000113f07ec002fd</td>\n",
       "      <td>Hey man, I'm really not trying to edit war. It...</td>\n",
       "      <td>0</td>\n",
       "      <td>0</td>\n",
       "      <td>0</td>\n",
       "      <td>0</td>\n",
       "      <td>0</td>\n",
       "      <td>0</td>\n",
       "    </tr>\n",
       "    <tr>\n",
       "      <th>3</th>\n",
       "      <td>0001b41b1c6bb37e</td>\n",
       "      <td>\"\\nMore\\nI can't make any real suggestions on ...</td>\n",
       "      <td>0</td>\n",
       "      <td>0</td>\n",
       "      <td>0</td>\n",
       "      <td>0</td>\n",
       "      <td>0</td>\n",
       "      <td>0</td>\n",
       "    </tr>\n",
       "    <tr>\n",
       "      <th>4</th>\n",
       "      <td>0001d958c54c6e35</td>\n",
       "      <td>You, sir, are my hero. Any chance you remember...</td>\n",
       "      <td>0</td>\n",
       "      <td>0</td>\n",
       "      <td>0</td>\n",
       "      <td>0</td>\n",
       "      <td>0</td>\n",
       "      <td>0</td>\n",
       "    </tr>\n",
       "  </tbody>\n",
       "</table>\n",
       "</div>"
      ],
      "text/plain": [
       "                 id                                       comment_text  toxic  \\\n",
       "0  0000997932d777bf  Explanation\\nWhy the edits made under my usern...      0   \n",
       "1  000103f0d9cfb60f  D'aww! He matches this background colour I'm s...      0   \n",
       "2  000113f07ec002fd  Hey man, I'm really not trying to edit war. It...      0   \n",
       "3  0001b41b1c6bb37e  \"\\nMore\\nI can't make any real suggestions on ...      0   \n",
       "4  0001d958c54c6e35  You, sir, are my hero. Any chance you remember...      0   \n",
       "\n",
       "   severe_toxic  obscene  threat  insult  identity_hate  \n",
       "0             0        0       0       0              0  \n",
       "1             0        0       0       0              0  \n",
       "2             0        0       0       0              0  \n",
       "3             0        0       0       0              0  \n",
       "4             0        0       0       0              0  "
      ]
     },
     "execution_count": 2,
     "metadata": {},
     "output_type": "execute_result"
    }
   ],
   "source": [
    "train_text = pd.read_csv(\"include/train.csv\", index_col=False)\n",
    "train_text.reset_index(drop=True)\n",
    "test_text = pd.read_csv(\"include/test.csv\", index_col=False)\n",
    "sample_submission = pd.read_csv(\"include/sample_submission.csv\", index_col=False)\n",
    "test_labels = pd.read_csv(\"include/test_labels.csv\", index_col=False)\n",
    "\n",
    "train_text.head()"
   ]
  },
  {
   "cell_type": "code",
   "execution_count": 3,
   "metadata": {},
   "outputs": [],
   "source": [
    "X = train_text['comment_text'].values\n",
    "y = train_text.drop(['id'], axis=1)\n",
    "y = y.drop(['comment_text'], axis=1)\n",
    "y_vals = y.to_numpy()\n",
    "X_val = test_text['comment_text'].values\n"
   ]
  },
  {
   "cell_type": "code",
   "execution_count": 4,
   "metadata": {},
   "outputs": [
    {
     "data": {
      "text/html": [
       "<div>\n",
       "<style scoped>\n",
       "    .dataframe tbody tr th:only-of-type {\n",
       "        vertical-align: middle;\n",
       "    }\n",
       "\n",
       "    .dataframe tbody tr th {\n",
       "        vertical-align: top;\n",
       "    }\n",
       "\n",
       "    .dataframe thead th {\n",
       "        text-align: right;\n",
       "    }\n",
       "</style>\n",
       "<table border=\"1\" class=\"dataframe\">\n",
       "  <thead>\n",
       "    <tr style=\"text-align: right;\">\n",
       "      <th></th>\n",
       "      <th>toxic</th>\n",
       "      <th>severe_toxic</th>\n",
       "      <th>obscene</th>\n",
       "      <th>threat</th>\n",
       "      <th>insult</th>\n",
       "      <th>identity_hate</th>\n",
       "    </tr>\n",
       "  </thead>\n",
       "  <tbody>\n",
       "    <tr>\n",
       "      <th>0</th>\n",
       "      <td>0.904156</td>\n",
       "      <td>0.990004</td>\n",
       "      <td>0.947052</td>\n",
       "      <td>0.997004</td>\n",
       "      <td>0.950636</td>\n",
       "      <td>0.991195</td>\n",
       "    </tr>\n",
       "    <tr>\n",
       "      <th>1</th>\n",
       "      <td>0.095844</td>\n",
       "      <td>0.009996</td>\n",
       "      <td>0.052948</td>\n",
       "      <td>0.002996</td>\n",
       "      <td>0.049364</td>\n",
       "      <td>0.008805</td>\n",
       "    </tr>\n",
       "  </tbody>\n",
       "</table>\n",
       "</div>"
      ],
      "text/plain": [
       "      toxic  severe_toxic   obscene    threat    insult  identity_hate\n",
       "0  0.904156      0.990004  0.947052  0.997004  0.950636       0.991195\n",
       "1  0.095844      0.009996  0.052948  0.002996  0.049364       0.008805"
      ]
     },
     "execution_count": 4,
     "metadata": {},
     "output_type": "execute_result"
    }
   ],
   "source": [
    "#Looking at the distribution of traget variables\n",
    "y_cols = [\"toxic\",\"severe_toxic\",\"obscene\",\"threat\",\"insult\",\"identity_hate\"]\n",
    "train_text[y_cols].apply(pd.Series.value_counts, args = (True, True, False, None, False))"
   ]
  },
  {
   "cell_type": "markdown",
   "metadata": {},
   "source": [
    "# Plot training data labels"
   ]
  },
  {
   "cell_type": "code",
   "execution_count": 5,
   "metadata": {},
   "outputs": [
    {
     "data": {
      "image/png": "[encoded data removed]",
      "text/plain": [
       "<Figure size 864x360 with 1 Axes>"
      ]
     },
     "metadata": {
      "needs_background": "light"
     },
     "output_type": "display_data"
    }
   ],
   "source": [
    "# fig, axes = plt.subplots(figsize = (32,8))\n",
    "fig, axes = plt.subplots(figsize = (12,5))\n",
    "sns.countplot(y.sum(axis = 1))\n",
    "# NOTE: axis = 1 adds everything along columns and axis = 0 adds everything along rows\n",
    "axes.set_xticks(range(6)) # Have to do this to work around a bug\n",
    "axes.set_xticklabels(y.columns, rotation = 50, ha = \"center\", fontsize = 11)\n",
    "plt.title(\"Frequency of different types of toxic comments\")\n",
    "plt.tight_layout()\n",
    "plt.show()"
   ]
  },
  {
   "cell_type": "markdown",
   "metadata": {},
   "source": [
    "# Clean data"
   ]
  },
  {
   "cell_type": "code",
   "execution_count": 6,
   "metadata": {},
   "outputs": [],
   "source": [
    "# Remove punctuation marks and digits\n",
    "# Stop words remoe words such as: in, the, so, of etc. that don't help us determine the y labels\n",
    "def preprocess(texts):\n",
    "    #importing stop words like in, the, of so that these can be removed from texts\n",
    "    #as these words dont help in determining the classes(Whether a sentence is toxic or not)\n",
    "    mystopwords = set(stopwords.words(\"english\"))\n",
    "    def clean(tokens):\n",
    "        #Nested function that lowercases, removes stopwords and digits from a list of tokens\n",
    "        return [token.lower() for token in tokens if token not in mystopwords and not token.isdigit()\n",
    "               and token not in punctuation]\n",
    "    #This return statement below uses the above function and tokenizes output further. \n",
    "    return [clean(word_tokenize(text)) for text in tqdm(texts)]"
   ]
  },
  {
   "cell_type": "code",
   "execution_count": 7,
   "metadata": {},
   "outputs": [
    {
     "data": {
      "application/vnd.jupyter.widget-view+json": {
       "model_id": "f7c46619dbde4779ac0af8212d832970",
       "version_major": 2,
       "version_minor": 0
      },
      "text/plain": [
       "HBox(children=(HTML(value=''), FloatProgress(value=0.0, max=159571.0), HTML(value='')))"
      ]
     },
     "metadata": {},
     "output_type": "display_data"
    },
    {
     "name": "stdout",
     "output_type": "stream",
     "text": [
      "\n"
     ]
    },
    {
     "data": {
      "application/vnd.jupyter.widget-view+json": {
       "model_id": "ac778b9c4e934991b64aed9f57de4533",
       "version_major": 2,
       "version_minor": 0
      },
      "text/plain": [
       "HBox(children=(HTML(value=''), FloatProgress(value=0.0, max=153164.0), HTML(value='')))"
      ]
     },
     "metadata": {},
     "output_type": "display_data"
    },
    {
     "name": "stdout",
     "output_type": "stream",
     "text": [
      "\n"
     ]
    }
   ],
   "source": [
    "#Preprocess both for training and test data\n",
    "train_texts_processed = preprocess(X)\n",
    "test_texts_processed = preprocess(X_val)"
   ]
  },
  {
   "cell_type": "markdown",
   "metadata": {},
   "source": [
    "# Load pretrained embeddings"
   ]
  },
  {
   "cell_type": "code",
   "execution_count": 8,
   "metadata": {
    "scrolled": true
   },
   "outputs": [],
   "source": [
    "# Load pretrained embeddings from Gensim (Generate Similar) library. \n",
    "# It has pretrained embeddings for Google News dataset\n",
    "w2v_model = KeyedVectors.load('include/GoogleNews-vectors-negative300.gensim')"
   ]
  },
  {
   "cell_type": "markdown",
   "metadata": {},
   "source": [
    "# Create Embeddings for the words in the dataset using the pretrained embedding vector"
   ]
  },
  {
   "cell_type": "code",
   "execution_count": 9,
   "metadata": {},
   "outputs": [],
   "source": [
    "# each sentence is a list of words and all the sentences are inside another list\n",
    "def embeddings(list_of_lists, dimension, w2v_embeddings):\n",
    "    #set the zero-vector to the size of the dimension. Dimension = 300 (Google News Model's embedding vector dimension is 300)\n",
    "    zeros_vector = np.zeros(dimension)\n",
    "    features = []\n",
    "    missing = set() # when there are missing words in a sentence\n",
    "    missing_sentences = set() # when all the words in a sentence are missing\n",
    "    \n",
    "    # Go through each sentence\n",
    "    for tokens in tqdm(list_of_lists):\n",
    "        # Initially set 0s to the embedding vector of the sentence\n",
    "        features_of_sentence = zeros_vector\n",
    "        # set the count of the number of words in the embedding for this sentence to 0\n",
    "        count_of_words = 0\n",
    "        # Go through each word in a sentence\n",
    "        for token in tokens:\n",
    "            # Check if the word is in the word to vec embedding vector\n",
    "            if token in w2v_embeddings:\n",
    "                # add the vector of the word to the vector of the sentence\n",
    "                features_of_sentence += w2v_embeddings[token]\n",
    "                count_of_words += 1 # increase count by 1 since there is an embedding in the w2v model\n",
    "            # Else assign the missing word to the missing set \n",
    "            else:\n",
    "                missing.add(token)\n",
    "        # If no words in the sentence have embeddings in the w2v model\n",
    "        if count_of_words == 0:\n",
    "            # Assign all zeroes vector for the sentence\n",
    "            features.append(features_of_sentence)\n",
    "            # put the missing sentence (all words in the sentence have no pretrained embedding) to missing_sentenses\n",
    "            missing_sentences.add(' '.join(tokens))\n",
    "        # Else, take the averageof the values of the embeddings for each word to get the embeddigns for the entire sentence\n",
    "        else:\n",
    "            features.append(features_of_sentence/count_of_words)\n",
    "    return features, missing, missing_sentences"
   ]
  },
  {
   "cell_type": "code",
   "execution_count": 10,
   "metadata": {},
   "outputs": [
    {
     "data": {
      "application/vnd.jupyter.widget-view+json": {
       "model_id": "cbb4e5bdf34e47e29d5919ab7761e8d5",
       "version_major": 2,
       "version_minor": 0
      },
      "text/plain": [
       "HBox(children=(HTML(value=''), FloatProgress(value=0.0, max=159571.0), HTML(value='')))"
      ]
     },
     "metadata": {},
     "output_type": "display_data"
    },
    {
     "name": "stdout",
     "output_type": "stream",
     "text": [
      "\n",
      "Prediction: [[0 0 0 0 0 0]\n",
      " [0 0 0 0 0 0]\n",
      " [0 0 0 0 0 0]\n",
      " ...\n",
      " [0 0 0 0 0 0]\n",
      " [0 0 0 0 0 0]\n",
      " [0 0 0 0 0 0]]\n",
      "Actual [[0 0 0 0 0 0]\n",
      " [0 0 0 0 0 0]\n",
      " [0 0 0 0 0 0]\n",
      " ...\n",
      " [0 0 0 0 0 0]\n",
      " [0 0 0 0 0 0]\n",
      " [0 0 0 0 0 0]]\n",
      "The accuracy score on a small section of the training data is:  0.8968741383200061\n"
     ]
    }
   ],
   "source": [
    "#Embeddings for the train dataset\n",
    "training_data_vectors, missing, missing_sentences = embeddings(train_texts_processed, 300, w2v_model)\n",
    "\n",
    "# Train test split, seperate a fraction of the training data to test on\n",
    "train_data, val_data, train_output, val_output = train_test_split(training_data_vectors, y_vals)\n",
    "\n",
    "# create a logistic regression model, with multi output classifier since we have 6 output labels\n",
    "logistic_regression = MultiOutputClassifier(LogisticRegression(class_weight = 'unbalanced', max_iter = 3000))\n",
    "logistic_regression = logistic_regression.fit(train_data, train_output)\n",
    "\n",
    "target_prediction = logistic_regression.predict(val_data)\n",
    "# print(\"Prediction:\", target_prediction)\n",
    "# print(\"Actual\", val_output)\n",
    "\n",
    "prediction_accuracy = accuracy_score(val_output, target_prediction)\n",
    "print(\"The accuracy score on a small section of the training data is: \", prediction_accuracy)"
   ]
  },
  {
   "cell_type": "markdown",
   "metadata": {},
   "source": [
    "# Define function to train the model and calculate AUC"
   ]
  },
  {
   "cell_type": "code",
   "execution_count": 11,
   "metadata": {},
   "outputs": [],
   "source": [
    "def train_auc(dimension, model):\n",
    "    # call the function above to create embeddings for the words in the training dataset\n",
    "    training_data_vectors, missing, missing_sentences = embeddings(train_texts_processed, 300, w2v_model)\n",
    "    \n",
    "    # split the embedding vector along with the output variable to form training set and validation set\n",
    "    train_data, val_data, train_output, val_output = train_test_split(training_data_vectors, y_vals)\n",
    "    \n",
    "    # create a logistic regression model, with multi output classifier since we have 6 output labels\n",
    "    logistic_regression = MultiOutputClassifier(LogisticRegression(class_weight = 'balanced', max_iter = 3000))\n",
    "    logistic_regression = logistic_regression.fit(train_data, train_output)\n",
    "    \n",
    "    # create a copy of the actual output values for calculating the accuracy later\n",
    "    y_output = val_output\n",
    "    \n",
    "    # predict the probability of the validation dataset by logistic regression model\n",
    "    prediction = logistic_regression.predict_proba(val_data)\n",
    "    y_predict = np.transpose(np.array(prediction)[:,:,1])\n",
    "    \n",
    "    # calcuate the ROC and AUC for the prediction\n",
    "    aucs = []\n",
    "    # calculate for each column\n",
    "    for col in range(y_output.shape[1]):\n",
    "        score = roc_auc_score(y_output[:,col], y_predict[:,col])\n",
    "        aucs.append(score)\n",
    "    mean_auc = mean(aucs)\n",
    "    \n",
    "    return mean_auc, logistic_regression # return the model since we need it to use on the test data"
   ]
  },
  {
   "cell_type": "markdown",
   "metadata": {},
   "source": [
    "# Train the model using the Google news Word to Vec embeddings"
   ]
  },
  {
   "cell_type": "code",
   "execution_count": 12,
   "metadata": {},
   "outputs": [
    {
     "data": {
      "application/vnd.jupyter.widget-view+json": {
       "model_id": "c3b3e2fe987f465f818ea2e71aca7c57",
       "version_major": 2,
       "version_minor": 0
      },
      "text/plain": [
       "HBox(children=(HTML(value=''), FloatProgress(value=0.0, max=159571.0), HTML(value='')))"
      ]
     },
     "metadata": {},
     "output_type": "display_data"
    },
    {
     "name": "stdout",
     "output_type": "stream",
     "text": [
      "\n",
      "The mean AUC for logistic regression model is:  0.580875208110089\n"
     ]
    }
   ],
   "source": [
    "mean_auc, logistic_regression = train_auc(300, w2v_model)\n",
    "print(\"The mean AUC for logistic regression model is: \", mean_auc)"
   ]
  },
  {
   "cell_type": "markdown",
   "metadata": {},
   "source": [
    "# Predicting and submitting on test data"
   ]
  },
  {
   "cell_type": "code",
   "execution_count": 13,
   "metadata": {},
   "outputs": [
    {
     "data": {
      "application/vnd.jupyter.widget-view+json": {
       "model_id": "ee236bd017aa4d8ea22540c9e4828d5d",
       "version_major": 2,
       "version_minor": 0
      },
      "text/plain": [
       "HBox(children=(HTML(value=''), FloatProgress(value=0.0, max=153164.0), HTML(value='')))"
      ]
     },
     "metadata": {},
     "output_type": "display_data"
    },
    {
     "name": "stdout",
     "output_type": "stream",
     "text": [
      "\n",
      "Data saved in the csv file\n"
     ]
    }
   ],
   "source": [
    "# create embeddings for the test data\n",
    "test_data_vectors, missing, missing_sentences  = embeddings(test_texts_processed, 300, w2v_model)\n",
    "# test_vectors, _, _ = embedding_feats(test_texts_processed, 300, w2v_google_news)\n",
    "\n",
    "# Use the created logistic regression model to get the output probabilities\n",
    "prediction = logistic_regression.predict_proba(test_data_vectors)\n",
    "y_prediction = np.transpose(np.array(prediction)[:,:,1])\n",
    "# print(y_prediction)\n",
    "\n",
    "# write the output into a CSV file\n",
    "\n",
    "# Merge the test_text and the sample submission files\n",
    "df_test = pd.merge(test_text, sample_submission, on = 'id')\n",
    "# Create the y-labels\n",
    "y_cols = [\"toxic\", \"severe_toxic\", \"obscene\", \"threat\", \"insult\", \"identity_hate\"]\n",
    "# Input the prediction values into the dataframe\n",
    "df_test[y_cols] = y_prediction\n",
    "# drop the comment_text column as it is not a part of the sample submission\n",
    "df_test.drop(['comment_text'], axis = 1, inplace = True)\n",
    "# Write the values in the dataframe into a CSV file\n",
    "df_test.to_csv(\"pipeline2.csv\", index = False)\n",
    "print(\"Data saved in the csv file\")"
   ]
  }
 ],
 "metadata": {
  "kernelspec": {
   "name": "python385jvsc74a57bd0279228300aaf49561fd4a497dfb7f06ccf7553c5fd6dcd9052050fec4a3ac520",
   "display_name": "Python 3.8.5 64-bit (conda)"
  },
  "language_info": {
   "codemirror_mode": {
    "name": "ipython",
    "version": 3
   },
   "file_extension": ".py",
   "mimetype": "text/x-python",
   "name": "python",
   "nbconvert_exporter": "python",
   "pygments_lexer": "ipython3",
   "version": "3.8.5-final"
  }
 },
 "nbformat": 4,
 "nbformat_minor": 4
}